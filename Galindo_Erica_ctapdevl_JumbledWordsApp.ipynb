{
  "nbformat": 4,
  "nbformat_minor": 0,
  "metadata": {
    "colab": {
      "provenance": [],
      "toc_visible": true,
      "include_colab_link": true
    },
    "kernelspec": {
      "name": "python3",
      "display_name": "Python 3"
    },
    "language_info": {
      "name": "python"
    }
  },
  "cells": [
    {
      "cell_type": "markdown",
      "metadata": {
        "id": "view-in-github",
        "colab_type": "text"
      },
      "source": [
        "<a href=\"https://colab.research.google.com/github/Erica2222/Erica2222/blob/main/Galindo_Erica_ctapdevl_JumbledWordsApp.ipynb\" target=\"_parent\"><img src=\"https://colab.research.google.com/assets/colab-badge.svg\" alt=\"Open In Colab\"/></a>"
      ]
    },
    {
      "cell_type": "markdown",
      "source": [
        "# **Instructions for Saving Your Google Colab**\n",
        "\n",
        "## **Save a Copy in Google Drive:**\n",
        "\n",
        "- Click on File in the top menu.\n",
        "- Select Save a copy in Drive.\n",
        "- Rename the file by removing the \"Copy of\" prefix. For example, if the original file is named (```LastName_FirstName_ctapdevl_JumbledWordsApp.ipynb```), rename it to:\n",
        "># ```DelaCruz_Juan_ctapdevl_JumbledWordsApp.ipynb```\n",
        "- This will save the file in your Google Drive with the new name."
      ],
      "metadata": {
        "id": "LyNqHGxqnoQi"
      }
    },
    {
      "cell_type": "markdown",
      "source": [
        "#  **Building a Word Jumble Game using ListView and Custom Adapters**\n",
        "\n",
        "Welcome, developers! 🌟 Today, we’ll build an exciting **Word Jumble Game**. This game challenges players to unscramble jumbled words within a set time limit. It's simple, fun, and an excellent way to strengthen your Android development skills.\n",
        "\n",
        "Imagine being a **puzzle master** 🧠 creating mind-bending challenges for your friends. As a developer, you can customize every part of this game, from the words and layout to advanced features like timers and feedback.\n",
        "\n",
        "# **Learning Objectives**\n",
        "\n",
        "By the end of this lesson, you’ll be able to:\n",
        "1. Create a **dynamic UI** using `ListView`.\n",
        "2. Implement a **custom adapter** to handle jumbled words and user inputs.\n",
        "3. Use a **timer** to add urgency to the game.\n",
        "4. Validate user inputs and provide **real-time feedback**.\n",
        "5. Enhance the game with additional features like score tracking and skipping words."
      ],
      "metadata": {
        "id": "swe3iCxrKzBg"
      }
    },
    {
      "cell_type": "markdown",
      "source": [
        "# **1. Setting Up a New Project in Android Studio with Empty Views Activity**\n",
        "\n",
        "Before we dive into the widgets, let's create a new project in Android Studio.\n",
        "\n",
        "## **Steps**:\n",
        "1. Open Android Studio.\n",
        "2. Select **New Project** > **Empty Views Activity**.\n",
        "3. Name your project (e.g., \"JumbledWordsApp\").\n",
        "4. Set the package name (e.g., `com.example.jumbledwordsapp`).\n",
        "5. Choose the **minimum SDK** (e.g., API 2; Android 5.0 for wider compatibility).\n",
        "6. Click **Finish**.\n",
        "\n",
        "**What Just Happened?**  \n",
        "Android Studio automatically creates the essential files and folders for your app, including `MainActivity.java` and the layout file `activity_main.xml`. This is your starting point for building UIs."
      ],
      "metadata": {
        "id": "cGi8ym7ZK5hx"
      }
    },
    {
      "cell_type": "markdown",
      "source": [
        "# **2. Designing the Layout**\n",
        "\n",
        "The layout consists of:\n",
        "- A **timer** to track the remaining game time.\n",
        "- A **ListView** to display jumbled words and input fields.\n",
        "- A **submit button** to validate the user’s answers."
      ],
      "metadata": {
        "id": "6YSwcEWlLYIc"
      }
    },
    {
      "cell_type": "markdown",
      "source": [
        "#### **Code: activity_main.xml**\n",
        "```xml\n",
        "paste your code here\n",
        "```"
      ],
      "metadata": {
        "id": "HmjRLN5OLa1G"
      }
    },
    {
      "cell_type": "markdown",
      "source": [
        "# **3. Creating the Custom ListView Layout**\n",
        "\n",
        "In this step, we define the layout for each row in the `ListView` using `list_item_word.xml`. The layout includes:  \n",
        "1. A **TextView** to display the jumbled word to the user.  \n",
        "2. An **EditText** for the user to input their guess for the correct word.  \n",
        "\n",
        "This layout ensures clarity and interactivity for the user while guessing the words."
      ],
      "metadata": {
        "id": "kWO5bq0NLb06"
      }
    },
    {
      "cell_type": "markdown",
      "source": [
        "#### **Code: list_item_word.xml**\n",
        "```xml\n",
        "paste your code here\n",
        "```\n"
      ],
      "metadata": {
        "id": "ivMIK1O2LfoU"
      }
    },
    {
      "cell_type": "markdown",
      "source": [
        "# **4. Implementing the Custom Adapter**\n",
        "\n",
        "Here, we create a `CustomWordAdapter` that:  \n",
        "1. Extends `BaseAdapter` to bind the jumbled words to the ListView rows.  \n",
        "2. Handles the user’s input for each row and ensures their answers persist even when scrolling.  \n",
        "3. Maps the jumbled word from the dataset to the `TextView` and manages user input in the `EditText`.  \n",
        "\n",
        "This custom adapter is essential for managing complex layouts and dynamic data.\n"
      ],
      "metadata": {
        "id": "6H1EPrIsMF38"
      }
    },
    {
      "cell_type": "markdown",
      "source": [
        "#### **Code: CustomWordAdapter.java**\n",
        "```java\n",
        "paste your code here\n",
        "```\n"
      ],
      "metadata": {
        "id": "3Xau8v0yMJuQ"
      }
    },
    {
      "cell_type": "markdown",
      "source": [
        "# **5. Adding Game Logic in MainActivity**\n",
        "\n",
        "In this step, we implement the core functionality of the Word Jumble game:  \n",
        "1. **Timer**: Counts down the available time for the user to guess the words.  \n",
        "2. **Adapter**: Populates the ListView with the jumbled words and manages user input.  \n",
        "3. **Submit Button**: Checks the user’s answers against the correct words and displays the score.  \n",
        "\n",
        "This ties together the game’s UI and logic, ensuring an engaging and functional user experience."
      ],
      "metadata": {
        "id": "Rmo8iofcMMGz"
      }
    },
    {
      "cell_type": "markdown",
      "source": [
        "#### **Code: MainActivity.java**\n",
        "```java\n",
        "paste your code here\n",
        "```"
      ],
      "metadata": {
        "id": "A2r3J-3eMPhH"
      }
    },
    {
      "cell_type": "markdown",
      "source": [
        "# **Exercises** 🎯\n",
        "1. Add a new word and its jumbled version.\n",
        "2. Highlight correct answers in green and incorrect ones in red."
      ],
      "metadata": {
        "id": "nlPRImU6MRdm"
      }
    },
    {
      "cell_type": "markdown",
      "source": [
        "# **Key Takeaways**\n",
        "1. Custom adapters allow dynamic and interactive UI creation.\n",
        "2. Timers add urgency and excitement to games.\n",
        "3. Android's `ListView` is flexible and powerful for displaying complex lists."
      ],
      "metadata": {
        "id": "ybMN1PgKMTdA"
      }
    },
    {
      "cell_type": "markdown",
      "source": [
        "# **Wrap-Up**\n",
        "You’ve just built a complete Word Jumble Game! 🎉 Next, we’ll explore how to save high scores and make this game even more interactive. Keep going, and remember, the best apps are yet to come! 🚀"
      ],
      "metadata": {
        "id": "obmsCSTaMVEQ"
      }
    }
  ]
}